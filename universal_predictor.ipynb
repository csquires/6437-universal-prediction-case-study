{
 "cells": [
  {
   "cell_type": "code",
   "execution_count": 1,
   "metadata": {
    "ExecuteTime": {
     "end_time": "2019-05-03T20:22:04.196830Z",
     "start_time": "2019-05-03T20:22:03.476830Z"
    }
   },
   "outputs": [],
   "source": [
    "import matplotlib.pyplot as plt\n",
    "%matplotlib inline\n",
    "import seaborn as sns\n",
    "sns.set()\n",
    "import numpy as np\n",
    "from numpy import log2\n",
    "from scipy.special import logsumexp"
   ]
  },
  {
   "cell_type": "markdown",
   "metadata": {},
   "source": [
    "# Problem 9.4: plug-in estimator vs. mixture"
   ]
  },
  {
   "cell_type": "code",
   "execution_count": 2,
   "metadata": {
    "ExecuteTime": {
     "end_time": "2019-05-03T20:22:04.201741Z",
     "start_time": "2019-05-03T20:22:04.198813Z"
    }
   },
   "outputs": [],
   "source": [
    "Ns = np.arange(1, 1000)"
   ]
  },
  {
   "cell_type": "code",
   "execution_count": 3,
   "metadata": {
    "ExecuteTime": {
     "end_time": "2019-05-03T20:22:04.209983Z",
     "start_time": "2019-05-03T20:22:04.203642Z"
    }
   },
   "outputs": [],
   "source": [
    "asymptotic_behavior = .5*log2(Ns/(2*np.pi*np.e))/Ns\n",
    "x = 0\n",
    "P = 1\n",
    "sigma2 = 2\n",
    "xmap_exp_div = log2(np.e)/(2*sigma2) * ((Ns*P/(sigma2+Ns*P))**2 * sigma2/Ns + (sigma2/(sigma2+Ns*P))**2 * x**2)\n",
    "jeffreys_exp_div = -.5*log2(1 + (P/sigma2)/(1+Ns*P/sigma2)) + log2(np.e)/2 * P/sigma2/(1+Ns*P/sigma2) + xmap_exp_div\n",
    "\n",
    "xmap_avg_errors = np.cumsum(xmap_exp_div)/Ns\n",
    "jeffreys_avg_errors = np.cumsum(jeffreys_exp_div)/Ns"
   ]
  },
  {
   "cell_type": "markdown",
   "metadata": {},
   "source": [
    "Compare the average expected approximation loss of the plug-in predictor and the mixture predictor to each other and to the asymptotic model capacity bound "
   ]
  },
  {
   "cell_type": "code",
   "execution_count": 4,
   "metadata": {
    "ExecuteTime": {
     "end_time": "2019-05-03T20:22:04.730810Z",
     "start_time": "2019-05-03T20:22:04.211936Z"
    }
   },
   "outputs": [
    {
     "data": {
      "image/png": "[encoded data removed]",
      "text/plain": [
       "<matplotlib.figure.Figure at 0x11319e668>"
      ]
     },
     "metadata": {},
     "output_type": "display_data"
    }
   ],
   "source": [
    "plt.plot(Ns, asymptotic_behavior, label=r'$\\frac{1}{2} \\log\\frac{N}{2\\pi e}$');\n",
    "plt.plot(Ns, xmap_avg_errors, label='plug-in');\n",
    "plt.plot(Ns, jeffreys_avg_errors, label='Jeffreys');\n",
    "plt.yscale('log');\n",
    "plt.legend();\n",
    "plt.xlabel('Number of samples');\n",
    "plt.ylabel('Average expected approximation loss');"
   ]
  },
  {
   "cell_type": "markdown",
   "metadata": {},
   "source": [
    "# Universal Prediction of coin flips"
   ]
  },
  {
   "cell_type": "markdown",
   "metadata": {},
   "source": [
    "Simulate coin flips"
   ]
  },
  {
   "cell_type": "code",
   "execution_count": 5,
   "metadata": {
    "ExecuteTime": {
     "end_time": "2019-05-03T20:22:04.736529Z",
     "start_time": "2019-05-03T20:22:04.732770Z"
    }
   },
   "outputs": [],
   "source": [
    "n = 30\n",
    "np.random.seed(1729)\n",
    "ys = np.random.binomial(1, .25, n)\n",
    "n1 = np.sum(ys)\n",
    "if n < 10:\n",
    "    print(ys)"
   ]
  },
  {
   "cell_type": "markdown",
   "metadata": {},
   "source": [
    "Parameter classes"
   ]
  },
  {
   "cell_type": "code",
   "execution_count": 6,
   "metadata": {
    "ExecuteTime": {
     "end_time": "2019-05-03T20:22:04.741849Z",
     "start_time": "2019-05-03T20:22:04.738713Z"
    }
   },
   "outputs": [],
   "source": [
    "x1s = [.25, .5, .75]\n",
    "x2s = np.linspace(0.01, .99, 999)"
   ]
  },
  {
   "cell_type": "markdown",
   "metadata": {},
   "source": [
    "## Predict with $\\mathcal{X}_1$"
   ]
  },
  {
   "cell_type": "code",
   "execution_count": 7,
   "metadata": {
    "ExecuteTime": {
     "end_time": "2019-05-03T20:22:04.750809Z",
     "start_time": "2019-05-03T20:22:04.743600Z"
    }
   },
   "outputs": [],
   "source": [
    "mix1_prob_y1_unnorm = 1/len(x1s)*sum(x**(n1+1)*(1-x)**(n-n1) for x in x1s)\n",
    "mix1_prob_y0_unnorm = 1/len(x1s)*sum(x**(n1)*(1-x)**(n-n1+1) for x in x1s)\n",
    "mix1_prob_y1 = mix1_prob_y1_unnorm/(mix1_prob_y1_unnorm+mix1_prob_y0_unnorm)\n",
    "\n",
    "# Log domain is better for long sequences\n",
    "mix1_logprob_y1_unnorm = np.log(1/len(x1s))+logsumexp([(\n",
    "    n1+1)*np.log(x) + (n-n1)*np.log(1-x) for x in x1s\n",
    "])\n",
    "mix1_logprob_y0_unnorm = np.log(1/len(x1s))+logsumexp([\n",
    "    n1*np.log(x) + (n-n1+1)*np.log(1-x) for x in x1s\n",
    "])\n",
    "mix1_prob_y1_ = np.exp(mix1_logprob_y1_unnorm - logsumexp([mix1_logprob_y1_unnorm, mix1_logprob_y0_unnorm]))"
   ]
  },
  {
   "cell_type": "markdown",
   "metadata": {},
   "source": [
    "Get very close to a prediction from the true model"
   ]
  },
  {
   "cell_type": "code",
   "execution_count": 8,
   "metadata": {
    "ExecuteTime": {
     "end_time": "2019-05-03T20:22:04.755833Z",
     "start_time": "2019-05-03T20:22:04.752521Z"
    }
   },
   "outputs": [
    {
     "name": "stdout",
     "output_type": "stream",
     "text": [
      "0.250105561099305\n",
      "0.2501055610993046\n"
     ]
    }
   ],
   "source": [
    "print(mix1_prob_y1)\n",
    "print(mix1_prob_y1_)"
   ]
  },
  {
   "cell_type": "markdown",
   "metadata": {},
   "source": [
    "## Predict with $\\mathcal{X}_2$"
   ]
  },
  {
   "cell_type": "code",
   "execution_count": 9,
   "metadata": {
    "ExecuteTime": {
     "end_time": "2019-05-03T20:22:04.797461Z",
     "start_time": "2019-05-03T20:22:04.757756Z"
    }
   },
   "outputs": [],
   "source": [
    "mix2_prob_y1_unnorm = 1/len(x2s)*sum(x**(n1+1)*(1-x)**(n-n1) for x in x2s)\n",
    "mix2_prob_y0_unnorm = 1/len(x2s)*sum(x**(n1)*(1-x)**(n-n1+1) for x in x2s)\n",
    "mix2_prob_y1 = mix2_prob_y1_unnorm/(mix2_prob_y1_unnorm+mix2_prob_y0_unnorm)\n",
    "\n",
    "mix2_logprob_y1_unnorm = np.log(1/len(x2s))+logsumexp([\n",
    "    (n1+1)*np.log(x) + (n-n1)*np.log(1-x) for x in x2s\n",
    "])\n",
    "mix2_logprob_y0_unnorm = np.log(1/len(x2s))+logsumexp([\n",
    "    n1*np.log(x) + (n-n1+1)*np.log(1-x) for x in x2s\n",
    "])\n",
    "mix2_prob_y1_ = np.exp(mix2_logprob_y1_unnorm - logsumexp([mix2_logprob_y1_unnorm, mix2_logprob_y0_unnorm]))"
   ]
  },
  {
   "cell_type": "markdown",
   "metadata": {
    "ExecuteTime": {
     "end_time": "2019-05-03T20:16:02.139371Z",
     "start_time": "2019-05-03T20:16:02.136610Z"
    }
   },
   "source": [
    "Prediction is further from true model"
   ]
  },
  {
   "cell_type": "code",
   "execution_count": 10,
   "metadata": {
    "ExecuteTime": {
     "end_time": "2019-05-03T20:22:04.805638Z",
     "start_time": "2019-05-03T20:22:04.799647Z"
    }
   },
   "outputs": [
    {
     "name": "stdout",
     "output_type": "stream",
     "text": [
      "0.1562515823690603\n",
      "0.15625158236905967\n"
     ]
    }
   ],
   "source": [
    "print(mix2_prob_y1)\n",
    "print(mix2_prob_y1_)"
   ]
  },
  {
   "cell_type": "markdown",
   "metadata": {},
   "source": [
    "## Doubly Universal Prediction"
   ]
  },
  {
   "cell_type": "markdown",
   "metadata": {},
   "source": [
    "Mixture weights for the two models"
   ]
  },
  {
   "cell_type": "code",
   "execution_count": 11,
   "metadata": {
    "ExecuteTime": {
     "end_time": "2019-05-03T20:22:04.816794Z",
     "start_time": "2019-05-03T20:22:04.809396Z"
    }
   },
   "outputs": [],
   "source": [
    "w1 = .5\n",
    "w2 = 1 - w1"
   ]
  },
  {
   "cell_type": "markdown",
   "metadata": {
    "ExecuteTime": {
     "end_time": "2019-05-03T20:17:37.725166Z",
     "start_time": "2019-05-03T20:17:37.721245Z"
    }
   },
   "source": [
    "Mix the mixture distributions"
   ]
  },
  {
   "cell_type": "code",
   "execution_count": 12,
   "metadata": {
    "ExecuteTime": {
     "end_time": "2019-05-03T20:22:04.826509Z",
     "start_time": "2019-05-03T20:22:04.819510Z"
    }
   },
   "outputs": [],
   "source": [
    "double_prob_y1_unnorm = w1*mix1_prob_y1_unnorm + w2*mix2_prob_y1_unnorm\n",
    "double_prob_y0_unnorm = w1*mix1_prob_y0_unnorm + w2*mix2_prob_y0_unnorm\n",
    "double_prob_y1 = double_prob_y1_unnorm/(double_prob_y1_unnorm+double_prob_y0_unnorm)\n",
    "\n",
    "double_logprob_y1_unnorm = logsumexp([\n",
    "    np.log(w1) + mix1_logprob_y1_unnorm, \n",
    "    np.log(w2) + mix2_logprob_y1_unnorm\n",
    "])\n",
    "double_logprob_y0_unnorm = logsumexp([\n",
    "    np.log(w1) + mix1_logprob_y0_unnorm, \n",
    "    np.log(w2) + mix2_logprob_y0_unnorm\n",
    "])\n",
    "double_prob_y1_ = np.exp(double_logprob_y1_unnorm - logsumexp([double_logprob_y1_unnorm, double_logprob_y0_unnorm]))"
   ]
  },
  {
   "cell_type": "markdown",
   "metadata": {},
   "source": [
    "Not as good as using just $\\mathcal{X}_1$, but better than using $\\mathcal{X}_2$"
   ]
  },
  {
   "cell_type": "code",
   "execution_count": 13,
   "metadata": {
    "ExecuteTime": {
     "end_time": "2019-05-03T20:22:04.837156Z",
     "start_time": "2019-05-03T20:22:04.829065Z"
    }
   },
   "outputs": [
    {
     "name": "stdout",
     "output_type": "stream",
     "text": [
      "0.1919099995646388\n",
      "0.19190999956463836\n"
     ]
    }
   ],
   "source": [
    "print(double_prob_y1)\n",
    "print(double_prob_y1_)"
   ]
  }
 ],
 "metadata": {
  "@webio": {
   "lastCommId": null,
   "lastKernelId": null
  },
  "kernelspec": {
   "display_name": "Python 3",
   "language": "python",
   "name": "python3"
  },
  "language_info": {
   "codemirror_mode": {
    "name": "ipython",
    "version": 3
   },
   "file_extension": ".py",
   "mimetype": "text/x-python",
   "name": "python",
   "nbconvert_exporter": "python",
   "pygments_lexer": "ipython3",
   "version": "3.6.5"
  }
 },
 "nbformat": 4,
 "nbformat_minor": 2
}
